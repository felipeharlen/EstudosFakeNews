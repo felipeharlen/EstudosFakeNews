{
 "cells": [
  {
   "cell_type": "code",
   "execution_count": 2,
   "metadata": {},
   "outputs": [],
   "source": [
    "import numpy as np\n",
    "import pandas as pd\n",
    "import matplotlib.pyplot as plt\n",
    "import os\n",
    "import shutil\n",
    "import git\n",
    "import seaborn as sns\n",
    "%matplotlib inline\n",
    "\n",
    "from glob import glob\n",
    "from tqdm.notebook import tqdm\n",
    "from sklearn.model_selection import train_test_split\n",
    "from sklearn.impute import SimpleImputer\n",
    "from sklearn.preprocessing import LabelEncoder, LabelBinarizer, MinMaxScaler\n",
    "from sklearn.svm import SVC\n",
    "from sklearn.metrics import confusion_matrix, classification_report"
   ]
  },
  {
   "cell_type": "code",
   "execution_count": 3,
   "metadata": {},
   "outputs": [],
   "source": [
    "repo_url = \"https://github.com/roneysco/Fake.br-Corpus.git\"\n",
    "\n",
    "if not os.path.exists(\"fake_br\"):\n",
    "    repo = git.Repo.clone_from(repo_url, \"fake_br\")"
   ]
  },
  {
   "cell_type": "code",
   "execution_count": 4,
   "metadata": {},
   "outputs": [],
   "source": [
    "folder = r'fake_br/full_texts/'"
   ]
  },
  {
   "cell_type": "code",
   "execution_count": 5,
   "metadata": {},
   "outputs": [],
   "source": [
    "def extract_data(data_path, label):\n",
    "    dir_data = glob(data_path)\n",
    "    array = []\n",
    "\n",
    "    # Capturando dados das notícias\n",
    "    for path in tqdm(dir_data):\n",
    "        file = open(path, encoding = 'utf-8')\n",
    "        text = file.readlines()\n",
    "        text = ' '.join(text)\n",
    "        content = [text, label]\n",
    "        file.close()\n",
    "        array.append(content)   \n",
    "         \n",
    "    return np.array(array)"
   ]
  },
  {
   "cell_type": "code",
   "execution_count": 6,
   "metadata": {},
   "outputs": [],
   "source": [
    "dir_meta_fake = glob(folder + 'fake-meta-information\\*.txt')\n",
    "dir_meta_true = glob(folder + 'true-meta-information\\*.txt')"
   ]
  },
  {
   "cell_type": "code",
   "execution_count": 7,
   "metadata": {},
   "outputs": [],
   "source": [
    "def read_metadata(dir, label):    \n",
    "    metadata = []\n",
    "    \n",
    "    for path in dir:\n",
    "        data = np.genfromtxt(path, delimiter = '\\n', dtype = str, encoding = 'utf-8')\n",
    "        if len(data) < 25:\n",
    "            # print(path)\n",
    "            data = np.insert(data, 0, None)\n",
    "        metadata.append(data)\n",
    "\n",
    "    metadata = np.array(metadata)\n",
    "    metadata = np.c_[metadata, [label for i in range(len(metadata))]]\n",
    "    \n",
    "    return metadata"
   ]
  },
  {
   "cell_type": "code",
   "execution_count": 8,
   "metadata": {},
   "outputs": [],
   "source": [
    "meta_fake = read_metadata(dir_meta_fake, 'fake')\n",
    "meta_true = read_metadata(dir_meta_true, 'true')\n",
    "metadata = np.concatenate((meta_fake, meta_true), axis = 0)"
   ]
  },
  {
   "cell_type": "code",
   "execution_count": 9,
   "metadata": {},
   "outputs": [],
   "source": [
    "columns = ['author', 'link', 'category', 'date', 'tokens', 'words', 'types', 'links', 'upper_case', 'verbs', 'subj_imp_verbs', \n",
    "           'nouns', 'adjectives', 'adverbs', 'modal_verbs', 'sing_first_sec_pers_pronouns', 'plural_first_pers_pronouns', \n",
    "           'pronouns', 'pausality', 'characters', 'average_sent_length', 'average_word_length', 'news_with_speeling_errors', \n",
    "           'emotiveness', 'diversity', 'label']"
   ]
  },
  {
   "cell_type": "code",
   "execution_count": 10,
   "metadata": {},
   "outputs": [
    {
     "data": {
      "text/html": [
       "<div>\n",
       "<style scoped>\n",
       "    .dataframe tbody tr th:only-of-type {\n",
       "        vertical-align: middle;\n",
       "    }\n",
       "\n",
       "    .dataframe tbody tr th {\n",
       "        vertical-align: top;\n",
       "    }\n",
       "\n",
       "    .dataframe thead th {\n",
       "        text-align: right;\n",
       "    }\n",
       "</style>\n",
       "<table border=\"1\" class=\"dataframe\">\n",
       "  <thead>\n",
       "    <tr style=\"text-align: right;\">\n",
       "      <th></th>\n",
       "      <th>author</th>\n",
       "      <th>link</th>\n",
       "      <th>category</th>\n",
       "      <th>date</th>\n",
       "      <th>tokens</th>\n",
       "      <th>words</th>\n",
       "      <th>types</th>\n",
       "      <th>links</th>\n",
       "      <th>upper_case</th>\n",
       "      <th>verbs</th>\n",
       "      <th>...</th>\n",
       "      <th>plural_first_pers_pronouns</th>\n",
       "      <th>pronouns</th>\n",
       "      <th>pausality</th>\n",
       "      <th>characters</th>\n",
       "      <th>average_sent_length</th>\n",
       "      <th>average_word_length</th>\n",
       "      <th>news_with_speeling_errors</th>\n",
       "      <th>emotiveness</th>\n",
       "      <th>diversity</th>\n",
       "      <th>label</th>\n",
       "    </tr>\n",
       "  </thead>\n",
       "  <tbody>\n",
       "    <tr>\n",
       "      <th>0</th>\n",
       "      <td>mrk</td>\n",
       "      <td>https://ceticismopolitico.com/2017/11/30/katia...</td>\n",
       "      <td>politica</td>\n",
       "      <td>2017-11-30</td>\n",
       "      <td>211</td>\n",
       "      <td>185</td>\n",
       "      <td>120</td>\n",
       "      <td>0</td>\n",
       "      <td>6</td>\n",
       "      <td>30</td>\n",
       "      <td>...</td>\n",
       "      <td>0</td>\n",
       "      <td>26</td>\n",
       "      <td>2.0</td>\n",
       "      <td>815</td>\n",
       "      <td>14.2308</td>\n",
       "      <td>4.40541</td>\n",
       "      <td>0.0</td>\n",
       "      <td>0.263158</td>\n",
       "      <td>0.648649</td>\n",
       "      <td>fake</td>\n",
       "    </tr>\n",
       "    <tr>\n",
       "      <th>1</th>\n",
       "      <td>None</td>\n",
       "      <td>https://ceticismopolitico.com/2017/11/24/dr-ra...</td>\n",
       "      <td>politica</td>\n",
       "      <td>2017-11-24</td>\n",
       "      <td>289</td>\n",
       "      <td>254</td>\n",
       "      <td>163</td>\n",
       "      <td>0</td>\n",
       "      <td>0</td>\n",
       "      <td>56</td>\n",
       "      <td>...</td>\n",
       "      <td>0</td>\n",
       "      <td>20</td>\n",
       "      <td>2.5</td>\n",
       "      <td>1205</td>\n",
       "      <td>18.1429</td>\n",
       "      <td>4.74409</td>\n",
       "      <td>0.00787402</td>\n",
       "      <td>0.241667</td>\n",
       "      <td>0.641732</td>\n",
       "      <td>fake</td>\n",
       "    </tr>\n",
       "    <tr>\n",
       "      <th>2</th>\n",
       "      <td>None</td>\n",
       "      <td>https://afolhabrasil.com.br/politica/reinaldo-...</td>\n",
       "      <td>politica</td>\n",
       "      <td>2017-05-23</td>\n",
       "      <td>304</td>\n",
       "      <td>275</td>\n",
       "      <td>170</td>\n",
       "      <td>0</td>\n",
       "      <td>0</td>\n",
       "      <td>45</td>\n",
       "      <td>...</td>\n",
       "      <td>0</td>\n",
       "      <td>18</td>\n",
       "      <td>1.8125</td>\n",
       "      <td>1344</td>\n",
       "      <td>17.1875</td>\n",
       "      <td>4.88727</td>\n",
       "      <td>0.00363636</td>\n",
       "      <td>0.12782</td>\n",
       "      <td>0.618182</td>\n",
       "      <td>fake</td>\n",
       "    </tr>\n",
       "    <tr>\n",
       "      <th>3</th>\n",
       "      <td>None</td>\n",
       "      <td>https://www.diariodobrasil.org/relatorio-assus...</td>\n",
       "      <td>politica</td>\n",
       "      <td>24/07/2017</td>\n",
       "      <td>639</td>\n",
       "      <td>572</td>\n",
       "      <td>316</td>\n",
       "      <td>1</td>\n",
       "      <td>14</td>\n",
       "      <td>87</td>\n",
       "      <td>...</td>\n",
       "      <td>0</td>\n",
       "      <td>34</td>\n",
       "      <td>2.68</td>\n",
       "      <td>3122</td>\n",
       "      <td>22.88</td>\n",
       "      <td>5.45804</td>\n",
       "      <td>0.00174825</td>\n",
       "      <td>0.229008</td>\n",
       "      <td>0.552448</td>\n",
       "      <td>fake</td>\n",
       "    </tr>\n",
       "    <tr>\n",
       "      <th>4</th>\n",
       "      <td>None</td>\n",
       "      <td>https://www.diariodobrasil.org/radialista-amer...</td>\n",
       "      <td>politica</td>\n",
       "      <td>25/07/2017</td>\n",
       "      <td>128</td>\n",
       "      <td>111</td>\n",
       "      <td>82</td>\n",
       "      <td>0</td>\n",
       "      <td>1</td>\n",
       "      <td>21</td>\n",
       "      <td>...</td>\n",
       "      <td>0</td>\n",
       "      <td>12</td>\n",
       "      <td>0.894737</td>\n",
       "      <td>515</td>\n",
       "      <td>5.84211</td>\n",
       "      <td>4.63964</td>\n",
       "      <td>0.0</td>\n",
       "      <td>0.269231</td>\n",
       "      <td>0.738739</td>\n",
       "      <td>fake</td>\n",
       "    </tr>\n",
       "  </tbody>\n",
       "</table>\n",
       "<p>5 rows × 26 columns</p>\n",
       "</div>"
      ],
      "text/plain": [
       "  author                                               link  category  \\\n",
       "0    mrk  https://ceticismopolitico.com/2017/11/30/katia...  politica   \n",
       "1   None  https://ceticismopolitico.com/2017/11/24/dr-ra...  politica   \n",
       "2   None  https://afolhabrasil.com.br/politica/reinaldo-...  politica   \n",
       "3   None  https://www.diariodobrasil.org/relatorio-assus...  politica   \n",
       "4   None  https://www.diariodobrasil.org/radialista-amer...  politica   \n",
       "\n",
       "         date tokens words types links upper_case verbs  ...  \\\n",
       "0  2017-11-30    211   185   120     0          6    30  ...   \n",
       "1  2017-11-24    289   254   163     0          0    56  ...   \n",
       "2  2017-05-23    304   275   170     0          0    45  ...   \n",
       "3  24/07/2017    639   572   316     1         14    87  ...   \n",
       "4  25/07/2017    128   111    82     0          1    21  ...   \n",
       "\n",
       "  plural_first_pers_pronouns pronouns pausality characters  \\\n",
       "0                          0       26       2.0        815   \n",
       "1                          0       20       2.5       1205   \n",
       "2                          0       18    1.8125       1344   \n",
       "3                          0       34      2.68       3122   \n",
       "4                          0       12  0.894737        515   \n",
       "\n",
       "  average_sent_length average_word_length news_with_speeling_errors  \\\n",
       "0             14.2308             4.40541                       0.0   \n",
       "1             18.1429             4.74409                0.00787402   \n",
       "2             17.1875             4.88727                0.00363636   \n",
       "3               22.88             5.45804                0.00174825   \n",
       "4             5.84211             4.63964                       0.0   \n",
       "\n",
       "  emotiveness diversity label  \n",
       "0    0.263158  0.648649  fake  \n",
       "1    0.241667  0.641732  fake  \n",
       "2     0.12782  0.618182  fake  \n",
       "3    0.229008  0.552448  fake  \n",
       "4    0.269231  0.738739  fake  \n",
       "\n",
       "[5 rows x 26 columns]"
      ]
     },
     "execution_count": 10,
     "metadata": {},
     "output_type": "execute_result"
    }
   ],
   "source": [
    "meta_df = pd.DataFrame(metadata, columns = columns)\n",
    "meta_df.head()"
   ]
  },
  {
   "cell_type": "code",
   "execution_count": 11,
   "metadata": {},
   "outputs": [
    {
     "name": "stdout",
     "output_type": "stream",
     "text": [
      "<class 'pandas.core.frame.DataFrame'>\n",
      "RangeIndex: 7200 entries, 0 to 7199\n",
      "Data columns (total 26 columns):\n",
      " #   Column                        Non-Null Count  Dtype \n",
      "---  ------                        --------------  ----- \n",
      " 0   author                        3599 non-null   object\n",
      " 1   link                          7200 non-null   object\n",
      " 2   category                      7200 non-null   object\n",
      " 3   date                          7200 non-null   object\n",
      " 4   tokens                        7200 non-null   object\n",
      " 5   words                         7200 non-null   object\n",
      " 6   types                         7200 non-null   object\n",
      " 7   links                         5807 non-null   object\n",
      " 8   upper_case                    7200 non-null   object\n",
      " 9   verbs                         7200 non-null   object\n",
      " 10  subj_imp_verbs                7200 non-null   object\n",
      " 11  nouns                         7200 non-null   object\n",
      " 12  adjectives                    7200 non-null   object\n",
      " 13  adverbs                       7200 non-null   object\n",
      " 14  modal_verbs                   7200 non-null   object\n",
      " 15  sing_first_sec_pers_pronouns  7200 non-null   object\n",
      " 16  plural_first_pers_pronouns    7200 non-null   object\n",
      " 17  pronouns                      7200 non-null   object\n",
      " 18  pausality                     7200 non-null   object\n",
      " 19  characters                    7200 non-null   object\n",
      " 20  average_sent_length           7200 non-null   object\n",
      " 21  average_word_length           7200 non-null   object\n",
      " 22  news_with_speeling_errors     7200 non-null   object\n",
      " 23  emotiveness                   7200 non-null   object\n",
      " 24  diversity                     7200 non-null   object\n",
      " 25  label                         7200 non-null   object\n",
      "dtypes: object(26)\n",
      "memory usage: 1.4+ MB\n"
     ]
    }
   ],
   "source": [
    "meta_df = meta_df.replace('None', np.nan)\n",
    "meta_df.info()"
   ]
  },
  {
   "cell_type": "code",
   "execution_count": 12,
   "metadata": {},
   "outputs": [
    {
     "name": "stdout",
     "output_type": "stream",
     "text": [
      "Por G1                                                                                                    331\n",
      "Por BBC                                                                                                   235\n",
      "José Nêumanne                                                                                             173\n",
      "Por G1, Brasília                                                                                           86\n",
      "O Estado de S.Paulo                                                                                        71\n",
      "                                                                                                         ... \n",
      "Carla Araújo e Tânia MonteiroBRASÍLIA                                                                       1\n",
      "Por Amanda Polato, Adriana Justi, Bibiana Dionísio e Fernando Castro, G1 e G1 PR, São Paulo e Curitiba      1\n",
      "Lúcia Guimarães, Impresso                                                                                   1\n",
      "Stéfanie Privado, do E+,                                                                                    1\n",
      "Por Bernardo Caram e Fernanda Vivas, G1 e TV Globo, Brasília                                                1\n",
      "Name: author, Length: 1420, dtype: int64\n"
     ]
    }
   ],
   "source": [
    "print(meta_df['author'].value_counts())"
   ]
  },
  {
   "cell_type": "code",
   "execution_count": 13,
   "metadata": {},
   "outputs": [
    {
     "data": {
      "text/html": [
       "<div>\n",
       "<style scoped>\n",
       "    .dataframe tbody tr th:only-of-type {\n",
       "        vertical-align: middle;\n",
       "    }\n",
       "\n",
       "    .dataframe tbody tr th {\n",
       "        vertical-align: top;\n",
       "    }\n",
       "\n",
       "    .dataframe thead th {\n",
       "        text-align: right;\n",
       "    }\n",
       "</style>\n",
       "<table border=\"1\" class=\"dataframe\">\n",
       "  <thead>\n",
       "    <tr style=\"text-align: right;\">\n",
       "      <th></th>\n",
       "      <th>types</th>\n",
       "      <th>links</th>\n",
       "      <th>upper_case</th>\n",
       "      <th>verbs</th>\n",
       "      <th>subj_imp_verbs</th>\n",
       "      <th>nouns</th>\n",
       "      <th>modal_verbs</th>\n",
       "      <th>pronouns</th>\n",
       "      <th>pausality</th>\n",
       "      <th>characters</th>\n",
       "      <th>emotiveness</th>\n",
       "      <th>diversity</th>\n",
       "      <th>label</th>\n",
       "    </tr>\n",
       "  </thead>\n",
       "  <tbody>\n",
       "    <tr>\n",
       "      <th>0</th>\n",
       "      <td>120</td>\n",
       "      <td>0</td>\n",
       "      <td>6</td>\n",
       "      <td>30</td>\n",
       "      <td>1</td>\n",
       "      <td>46</td>\n",
       "      <td>5</td>\n",
       "      <td>26</td>\n",
       "      <td>2.0</td>\n",
       "      <td>815</td>\n",
       "      <td>0.263158</td>\n",
       "      <td>0.648649</td>\n",
       "      <td>fake</td>\n",
       "    </tr>\n",
       "    <tr>\n",
       "      <th>1</th>\n",
       "      <td>163</td>\n",
       "      <td>0</td>\n",
       "      <td>0</td>\n",
       "      <td>56</td>\n",
       "      <td>8</td>\n",
       "      <td>64</td>\n",
       "      <td>11</td>\n",
       "      <td>20</td>\n",
       "      <td>2.5</td>\n",
       "      <td>1205</td>\n",
       "      <td>0.241667</td>\n",
       "      <td>0.641732</td>\n",
       "      <td>fake</td>\n",
       "    </tr>\n",
       "    <tr>\n",
       "      <th>2</th>\n",
       "      <td>170</td>\n",
       "      <td>0</td>\n",
       "      <td>0</td>\n",
       "      <td>45</td>\n",
       "      <td>1</td>\n",
       "      <td>88</td>\n",
       "      <td>8</td>\n",
       "      <td>18</td>\n",
       "      <td>1.8125</td>\n",
       "      <td>1344</td>\n",
       "      <td>0.12782</td>\n",
       "      <td>0.618182</td>\n",
       "      <td>fake</td>\n",
       "    </tr>\n",
       "    <tr>\n",
       "      <th>3</th>\n",
       "      <td>316</td>\n",
       "      <td>1</td>\n",
       "      <td>14</td>\n",
       "      <td>87</td>\n",
       "      <td>7</td>\n",
       "      <td>175</td>\n",
       "      <td>14</td>\n",
       "      <td>34</td>\n",
       "      <td>2.68</td>\n",
       "      <td>3122</td>\n",
       "      <td>0.229008</td>\n",
       "      <td>0.552448</td>\n",
       "      <td>fake</td>\n",
       "    </tr>\n",
       "    <tr>\n",
       "      <th>4</th>\n",
       "      <td>82</td>\n",
       "      <td>0</td>\n",
       "      <td>1</td>\n",
       "      <td>21</td>\n",
       "      <td>0</td>\n",
       "      <td>31</td>\n",
       "      <td>1</td>\n",
       "      <td>12</td>\n",
       "      <td>0.894737</td>\n",
       "      <td>515</td>\n",
       "      <td>0.269231</td>\n",
       "      <td>0.738739</td>\n",
       "      <td>fake</td>\n",
       "    </tr>\n",
       "  </tbody>\n",
       "</table>\n",
       "</div>"
      ],
      "text/plain": [
       "  types links upper_case verbs subj_imp_verbs nouns modal_verbs pronouns  \\\n",
       "0   120     0          6    30              1    46           5       26   \n",
       "1   163     0          0    56              8    64          11       20   \n",
       "2   170     0          0    45              1    88           8       18   \n",
       "3   316     1         14    87              7   175          14       34   \n",
       "4    82     0          1    21              0    31           1       12   \n",
       "\n",
       "  pausality characters emotiveness diversity label  \n",
       "0       2.0        815    0.263158  0.648649  fake  \n",
       "1       2.5       1205    0.241667  0.641732  fake  \n",
       "2    1.8125       1344     0.12782  0.618182  fake  \n",
       "3      2.68       3122    0.229008  0.552448  fake  \n",
       "4  0.894737        515    0.269231  0.738739  fake  "
      ]
     },
     "execution_count": 13,
     "metadata": {},
     "output_type": "execute_result"
    }
   ],
   "source": [
    "meta_df = meta_df.drop(columns = ['author', 'link', 'date', 'category', 'adverbs', 'plural_first_pers_pronouns',\n",
    "                                  'average_word_length', 'sing_first_sec_pers_pronouns', 'news_with_speeling_errors',\n",
    "                                  'average_sent_length', 'adjectives', 'tokens', 'words'])\n",
    "meta_df.head()"
   ]
  },
  {
   "cell_type": "code",
   "execution_count": 14,
   "metadata": {},
   "outputs": [],
   "source": [
    "X, y = meta_df.iloc[:, :-1], meta_df['label']\n",
    "X_train, X_test, y_train, y_test = train_test_split(X, y, \n",
    "                                                    random_state = 42, \n",
    "                                                    test_size = 0.2, \n",
    "                                                    stratify = y)"
   ]
  },
  {
   "cell_type": "code",
   "execution_count": 15,
   "metadata": {},
   "outputs": [],
   "source": [
    "# X1 = X.iloc[:, 1]\n",
    "# # X2 = X.iloc[:, 21]\n",
    "\n",
    "# # plt.plot(X2, X2, '*')\n",
    "# for x1, label in zip(X1, y):\n",
    "#     if label == 'fake':\n",
    "#         plt.plot(x1, x1, 'b*')\n",
    "#     else:\n",
    "#         plt.plot(x1, x1, 'r*')\n",
    "# plt.xscale('linear')\n",
    "# plt.yscale('linear')\n",
    "# plt.xlabel('Tokens')\n",
    "# plt.ylabel('Palavras')"
   ]
  },
  {
   "cell_type": "code",
   "execution_count": 16,
   "metadata": {},
   "outputs": [],
   "source": [
    "def imputer(train, test):\n",
    "    simple_imputer = SimpleImputer(missing_values = np.nan, strategy = 'constant', fill_value = 0.0)\n",
    "    transf_train = simple_imputer.fit_transform(train.ravel().reshape([len(train), 1]))\n",
    "    transf_test = simple_imputer.transform(test.ravel().reshape([len(test), 1]))\n",
    "\n",
    "    return transf_train, transf_test\n",
    "\n",
    "for column in X_train:\n",
    "    X_train[column], X_test[column] = imputer(X_train[column], X_test[column])"
   ]
  },
  {
   "cell_type": "code",
   "execution_count": 17,
   "metadata": {},
   "outputs": [],
   "source": [
    "lb = LabelBinarizer()\n",
    "y_train = lb.fit_transform(y_train)\n",
    "y_test = lb.transform(y_test)\n",
    "y_train, y_test = y_train.reshape(-1), y_test.reshape(-1)"
   ]
  },
  {
   "cell_type": "code",
   "execution_count": 18,
   "metadata": {},
   "outputs": [],
   "source": [
    "mm = MinMaxScaler()\n",
    "\n",
    "X_train = mm.fit_transform(X_train)\n",
    "X_test = mm.transform(X_test)"
   ]
  },
  {
   "cell_type": "code",
   "execution_count": 19,
   "metadata": {},
   "outputs": [
    {
     "data": {
      "text/plain": [
       "0.9756944444444444"
      ]
     },
     "execution_count": 19,
     "metadata": {},
     "output_type": "execute_result"
    }
   ],
   "source": [
    "model = SVC(kernel = 'poly')\n",
    "model.fit(X_train, y_train)\n",
    "model.score(X_test, y_test)"
   ]
  },
  {
   "cell_type": "code",
   "execution_count": 20,
   "metadata": {},
   "outputs": [
    {
     "data": {
      "text/plain": [
       "<AxesSubplot: >"
      ]
     },
     "execution_count": 20,
     "metadata": {},
     "output_type": "execute_result"
    },
    {
     "data": {
      "image/png": "[encoded data removed]",
      "text/plain": [
       "<Figure size 640x480 with 2 Axes>"
      ]
     },
     "metadata": {},
     "output_type": "display_data"
    }
   ],
   "source": [
    "cm = confusion_matrix(y_test, model.predict(X_test))\n",
    "\n",
    "group_names = ['True Neg','False Pos','False Neg','True Pos']\n",
    "group_counts = [\"{0:0.0f}\".format(value) for value in\n",
    "                cm.flatten()]\n",
    "group_percentages = [\"{0:.2%}\".format(value) for value in\n",
    "                    cm.flatten()/np.sum(cm)]\n",
    "labels = [f\"{v1}\\n{v2}\\n{v3}\" for v1, v2, v3 in\n",
    "          zip(group_names,group_counts,group_percentages)]\n",
    "labels = np.asarray(labels).reshape(2,2)\n",
    "sns.heatmap(cm, annot=labels, fmt=\"\", cmap='Blues')"
   ]
  },
  {
   "cell_type": "code",
   "execution_count": 21,
   "metadata": {},
   "outputs": [
    {
     "name": "stdout",
     "output_type": "stream",
     "text": [
      "              precision    recall  f1-score   support\n",
      "\n",
      "           0       0.97      0.98      0.98       720\n",
      "           1       0.98      0.97      0.98       720\n",
      "\n",
      "    accuracy                           0.98      1440\n",
      "   macro avg       0.98      0.98      0.98      1440\n",
      "weighted avg       0.98      0.98      0.98      1440\n",
      "\n"
     ]
    }
   ],
   "source": [
    "print(classification_report(y_test, model.predict(X_test)))"
   ]
  },
  {
   "cell_type": "code",
   "execution_count": 22,
   "metadata": {},
   "outputs": [],
   "source": [
    "# def f_importances(coef, names):\n",
    "#     imp = coef\n",
    "#     imp, names = zip(*sorted(zip(imp, names)))\n",
    "#     plt.barh(range(len(names)), imp, align='center')\n",
    "#     plt.yticks(range(len(names)), names)\n",
    "#     plt.show()\n",
    "\n",
    "# features = ['types', 'links', 'upper_case', \n",
    "#             'verbs', 'subj_imp_verbs', 'nouns',\n",
    "#             'modal_verbs', 'pronouns', 'pausality',\n",
    "#             'characters', 'emotiveness', 'diversity']\n",
    "\n",
    "# f_importances(model.coef_[0], features)"
   ]
  }
 ],
 "metadata": {
  "kernelspec": {
   "display_name": "InteligenciaArtificia",
   "language": "python",
   "name": "python3"
  },
  "language_info": {
   "codemirror_mode": {
    "name": "ipython",
    "version": 3
   },
   "file_extension": ".py",
   "mimetype": "text/x-python",
   "name": "python",
   "nbconvert_exporter": "python",
   "pygments_lexer": "ipython3",
   "version": "3.8.15"
  },
  "orig_nbformat": 4,
  "vscode": {
   "interpreter": {
    "hash": "d97b5b6fd529866053e8a9ce91fe6b3092975860a1da0120a75f68cf588d3573"
   }
  }
 },
 "nbformat": 4,
 "nbformat_minor": 2
}
